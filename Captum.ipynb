{
  "nbformat": 4,
  "nbformat_minor": 0,
  "metadata": {
    "colab": {
      "provenance": [],
      "authorship_tag": "ABX9TyOH4+eNjKixUczTwtq+S0mm",
      "include_colab_link": true
    },
    "kernelspec": {
      "name": "python3",
      "display_name": "Python 3"
    },
    "language_info": {
      "name": "python"
    }
  },
  "cells": [
    {
      "cell_type": "markdown",
      "metadata": {
        "id": "view-in-github",
        "colab_type": "text"
      },
      "source": [
        "<a href=\"https://colab.research.google.com/github/tpavan03/Phishing-Detection/blob/main/Captum.ipynb\" target=\"_parent\"><img src=\"https://colab.research.google.com/assets/colab-badge.svg\" alt=\"Open In Colab\"/></a>"
      ]
    },
    {
      "cell_type": "code",
      "execution_count": 1,
      "metadata": {
        "id": "-WTTcExHqa_1"
      },
      "outputs": [],
      "source": [
        "import pandas as pd\n",
        "from sklearn.model_selection import train_test_split\n",
        "df=pd.read_csv(\"PhiUSIIL_Phishing_URL_Dataset.csv\")"
      ]
    },
    {
      "cell_type": "code",
      "source": [
        "X = df.drop([ 'FILENAME','Domain','TLD','URL', 'Title','label'], axis=1)  # Drop unnecessary columns\n",
        "y = df['label']\n",
        "X.fillna(0, inplace=True)\n",
        "y.fillna(0, inplace=True)\n",
        "X_train, X_test, y_train, y_test = train_test_split(X, y, test_size=0.3, random_state=42)"
      ],
      "metadata": {
        "id": "jg0CS4kbqpEk"
      },
      "execution_count": 2,
      "outputs": []
    },
    {
      "cell_type": "code",
      "source": [
        "from sklearn.preprocessing import MinMaxScaler\n",
        "\n",
        "all_columns = df.columns.tolist()\n",
        "\n",
        "numerical_features = [col for col in all_columns if col not in ['FILENAME', 'Domain', 'TLD', 'URL', 'Title', 'label']]\n",
        "\n",
        "X = df[numerical_features]\n",
        "\n",
        "scaler = MinMaxScaler()\n",
        "scaler.fit(X)\n",
        "\n",
        "X_normalized = scaler.transform(X)\n",
        "\n",
        "df[numerical_features] = X_normalized"
      ],
      "metadata": {
        "id": "XWgKrLPuqrdq"
      },
      "execution_count": 3,
      "outputs": []
    },
    {
      "cell_type": "code",
      "source": [
        "!pip install captum aix360 torchray"
      ],
      "metadata": {
        "colab": {
          "base_uri": "https://localhost:8080/"
        },
        "id": "7CUmB0KWqw2x",
        "outputId": "c510c082-7ef9-446a-868d-9c47db67e317"
      },
      "execution_count": 4,
      "outputs": [
        {
          "output_type": "stream",
          "name": "stdout",
          "text": [
            "Collecting captum\n",
            "  Downloading captum-0.7.0-py3-none-any.whl.metadata (26 kB)\n",
            "Collecting aix360\n",
            "  Downloading aix360-0.3.0-py3-none-any.whl.metadata (18 kB)\n",
            "Collecting torchray\n",
            "  Downloading torchray-1.0.0.2.tar.gz (376 kB)\n",
            "\u001b[?25l     \u001b[90m━━━━━━━━━━━━━━━━━━━━━━━━━━━━━━━━━━━━━━━━\u001b[0m \u001b[32m0.0/376.2 kB\u001b[0m \u001b[31m?\u001b[0m eta \u001b[36m-:--:--\u001b[0m\r\u001b[2K     \u001b[90m━━━━━━━━━━━━━━━━━━━━━━━━━━━━━━━━━━━━━━━━\u001b[0m \u001b[32m376.2/376.2 kB\u001b[0m \u001b[31m25.0 MB/s\u001b[0m eta \u001b[36m0:00:00\u001b[0m\n",
            "\u001b[?25h  Preparing metadata (setup.py) ... \u001b[?25l\u001b[?25hdone\n",
            "Requirement already satisfied: matplotlib in /usr/local/lib/python3.10/dist-packages (from captum) (3.7.1)\n",
            "Requirement already satisfied: numpy in /usr/local/lib/python3.10/dist-packages (from captum) (1.26.4)\n",
            "Requirement already satisfied: torch>=1.6 in /usr/local/lib/python3.10/dist-packages (from captum) (2.4.1+cu121)\n",
            "Requirement already satisfied: tqdm in /usr/local/lib/python3.10/dist-packages (from captum) (4.66.5)\n",
            "Requirement already satisfied: pandas in /usr/local/lib/python3.10/dist-packages (from aix360) (2.2.2)\n",
            "Requirement already satisfied: scikit-learn in /usr/local/lib/python3.10/dist-packages (from aix360) (1.5.2)\n",
            "Requirement already satisfied: importlib_resources in /usr/local/lib/python3.10/dist-packages (from torchray) (6.4.5)\n",
            "Requirement already satisfied: packaging in /usr/local/lib/python3.10/dist-packages (from torchray) (24.1)\n",
            "Requirement already satisfied: pycocotools>=2.0.0 in /usr/local/lib/python3.10/dist-packages (from torchray) (2.0.8)\n",
            "Collecting pymongo (from torchray)\n",
            "  Downloading pymongo-4.10.1-cp310-cp310-manylinux_2_17_x86_64.manylinux2014_x86_64.whl.metadata (22 kB)\n",
            "Requirement already satisfied: requests in /usr/local/lib/python3.10/dist-packages (from torchray) (2.32.3)\n",
            "Requirement already satisfied: torchvision>=0.3.0 in /usr/local/lib/python3.10/dist-packages (from torchray) (0.19.1+cu121)\n",
            "Requirement already satisfied: contourpy>=1.0.1 in /usr/local/lib/python3.10/dist-packages (from matplotlib->captum) (1.3.0)\n",
            "Requirement already satisfied: cycler>=0.10 in /usr/local/lib/python3.10/dist-packages (from matplotlib->captum) (0.12.1)\n",
            "Requirement already satisfied: fonttools>=4.22.0 in /usr/local/lib/python3.10/dist-packages (from matplotlib->captum) (4.54.1)\n",
            "Requirement already satisfied: kiwisolver>=1.0.1 in /usr/local/lib/python3.10/dist-packages (from matplotlib->captum) (1.4.7)\n",
            "Requirement already satisfied: pillow>=6.2.0 in /usr/local/lib/python3.10/dist-packages (from matplotlib->captum) (10.4.0)\n",
            "Requirement already satisfied: pyparsing>=2.3.1 in /usr/local/lib/python3.10/dist-packages (from matplotlib->captum) (3.1.4)\n",
            "Requirement already satisfied: python-dateutil>=2.7 in /usr/local/lib/python3.10/dist-packages (from matplotlib->captum) (2.8.2)\n",
            "Requirement already satisfied: filelock in /usr/local/lib/python3.10/dist-packages (from torch>=1.6->captum) (3.16.1)\n",
            "Requirement already satisfied: typing-extensions>=4.8.0 in /usr/local/lib/python3.10/dist-packages (from torch>=1.6->captum) (4.12.2)\n",
            "Requirement already satisfied: sympy in /usr/local/lib/python3.10/dist-packages (from torch>=1.6->captum) (1.13.3)\n",
            "Requirement already satisfied: networkx in /usr/local/lib/python3.10/dist-packages (from torch>=1.6->captum) (3.3)\n",
            "Requirement already satisfied: jinja2 in /usr/local/lib/python3.10/dist-packages (from torch>=1.6->captum) (3.1.4)\n",
            "Requirement already satisfied: fsspec in /usr/local/lib/python3.10/dist-packages (from torch>=1.6->captum) (2024.6.1)\n",
            "Requirement already satisfied: pytz>=2020.1 in /usr/local/lib/python3.10/dist-packages (from pandas->aix360) (2024.2)\n",
            "Requirement already satisfied: tzdata>=2022.7 in /usr/local/lib/python3.10/dist-packages (from pandas->aix360) (2024.2)\n",
            "Collecting dnspython<3.0.0,>=1.16.0 (from pymongo->torchray)\n",
            "  Downloading dnspython-2.7.0-py3-none-any.whl.metadata (5.8 kB)\n",
            "Requirement already satisfied: charset-normalizer<4,>=2 in /usr/local/lib/python3.10/dist-packages (from requests->torchray) (3.3.2)\n",
            "Requirement already satisfied: idna<4,>=2.5 in /usr/local/lib/python3.10/dist-packages (from requests->torchray) (3.10)\n",
            "Requirement already satisfied: urllib3<3,>=1.21.1 in /usr/local/lib/python3.10/dist-packages (from requests->torchray) (2.2.3)\n",
            "Requirement already satisfied: certifi>=2017.4.17 in /usr/local/lib/python3.10/dist-packages (from requests->torchray) (2024.8.30)\n",
            "Requirement already satisfied: scipy>=1.6.0 in /usr/local/lib/python3.10/dist-packages (from scikit-learn->aix360) (1.13.1)\n",
            "Requirement already satisfied: joblib>=1.2.0 in /usr/local/lib/python3.10/dist-packages (from scikit-learn->aix360) (1.4.2)\n",
            "Requirement already satisfied: threadpoolctl>=3.1.0 in /usr/local/lib/python3.10/dist-packages (from scikit-learn->aix360) (3.5.0)\n",
            "Requirement already satisfied: six>=1.5 in /usr/local/lib/python3.10/dist-packages (from python-dateutil>=2.7->matplotlib->captum) (1.16.0)\n",
            "Requirement already satisfied: MarkupSafe>=2.0 in /usr/local/lib/python3.10/dist-packages (from jinja2->torch>=1.6->captum) (2.1.5)\n",
            "Requirement already satisfied: mpmath<1.4,>=1.1.0 in /usr/local/lib/python3.10/dist-packages (from sympy->torch>=1.6->captum) (1.3.0)\n",
            "Downloading captum-0.7.0-py3-none-any.whl (1.3 MB)\n",
            "\u001b[2K   \u001b[90m━━━━━━━━━━━━━━━━━━━━━━━━━━━━━━━━━━━━━━━━\u001b[0m \u001b[32m1.3/1.3 MB\u001b[0m \u001b[31m56.7 MB/s\u001b[0m eta \u001b[36m0:00:00\u001b[0m\n",
            "\u001b[?25hDownloading aix360-0.3.0-py3-none-any.whl (58.4 MB)\n",
            "\u001b[2K   \u001b[90m━━━━━━━━━━━━━━━━━━━━━━━━━━━━━━━━━━━━━━━━\u001b[0m \u001b[32m58.4/58.4 MB\u001b[0m \u001b[31m17.2 MB/s\u001b[0m eta \u001b[36m0:00:00\u001b[0m\n",
            "\u001b[?25hDownloading pymongo-4.10.1-cp310-cp310-manylinux_2_17_x86_64.manylinux2014_x86_64.whl (1.4 MB)\n",
            "\u001b[2K   \u001b[90m━━━━━━━━━━━━━━━━━━━━━━━━━━━━━━━━━━━━━━━━\u001b[0m \u001b[32m1.4/1.4 MB\u001b[0m \u001b[31m61.5 MB/s\u001b[0m eta \u001b[36m0:00:00\u001b[0m\n",
            "\u001b[?25hDownloading dnspython-2.7.0-py3-none-any.whl (313 kB)\n",
            "\u001b[2K   \u001b[90m━━━━━━━━━━━━━━━━━━━━━━━━━━━━━━━━━━━━━━━━\u001b[0m \u001b[32m313.6/313.6 kB\u001b[0m \u001b[31m23.2 MB/s\u001b[0m eta \u001b[36m0:00:00\u001b[0m\n",
            "\u001b[?25hBuilding wheels for collected packages: torchray\n",
            "  Building wheel for torchray (setup.py) ... \u001b[?25l\u001b[?25hdone\n",
            "  Created wheel for torchray: filename=torchray-1.0.0.2-py3-none-any.whl size=444010 sha256=c2f0ded9c3e3a0228e9f6a09bad12b3d4f1cc090bf87536afb1275dcd7ddfe9a\n",
            "  Stored in directory: /root/.cache/pip/wheels/67/89/6f/9f783db1b9c9c2f31323a990f12e156e4f99d9ae15c9a2e96c\n",
            "Successfully built torchray\n",
            "Installing collected packages: dnspython, pymongo, captum, aix360, torchray\n",
            "Successfully installed aix360-0.3.0 captum-0.7.0 dnspython-2.7.0 pymongo-4.10.1 torchray-1.0.0.2\n"
          ]
        }
      ]
    },
    {
      "cell_type": "code",
      "source": [
        "import torch\n",
        "import torch.nn as nn\n",
        "import torch.optim as optim\n",
        "\n",
        "# Convert Pandas DataFrames to NumPy arrays before creating tensors\n",
        "X_train_tensor = torch.FloatTensor(X_train.values)  # Use .values to get the underlying NumPy array\n",
        "y_train_tensor = torch.FloatTensor(y_train.values).view(-1, 1)  # Reshape for output\n",
        "X_test_tensor = torch.FloatTensor(X_test.values)  # Use .values to get the underlying NumPy array"
      ],
      "metadata": {
        "id": "U_Ehbbjiq56l"
      },
      "execution_count": 5,
      "outputs": []
    },
    {
      "cell_type": "code",
      "source": [
        "print(X_train_tensor.shape)"
      ],
      "metadata": {
        "colab": {
          "base_uri": "https://localhost:8080/"
        },
        "id": "on9z-Co-q6mg",
        "outputId": "587526e7-a4c6-480f-ec33-350501d0f69c"
      },
      "execution_count": 6,
      "outputs": [
        {
          "output_type": "stream",
          "name": "stdout",
          "text": [
            "torch.Size([109786, 50])\n"
          ]
        }
      ]
    },
    {
      "cell_type": "code",
      "source": [
        "class NeuralNetwork(nn.Module):\n",
        "    def __init__(self, input_size):\n",
        "        super(NeuralNetwork, self).__init__()\n",
        "        self.fc1 = nn.Linear(input_size, 128)\n",
        "        self.fc2 = nn.Linear(128, 64)\n",
        "        self.fc3 = nn.Linear(64, 32)\n",
        "        self.fc4 = nn.Linear(32, 16)\n",
        "        self.fc5 = nn.Linear(16, 8)\n",
        "        self.output = nn.Linear(8, 1)\n",
        "\n",
        "    def forward(self, x):\n",
        "        x = torch.relu(self.fc1(x))\n",
        "        x = torch.relu(self.fc2(x))\n",
        "        x = torch.relu(self.fc3(x))\n",
        "        x = torch.relu(self.fc4(x))\n",
        "        x = torch.relu(self.fc5(x))\n",
        "        x = torch.sigmoid(self.output(x))\n",
        "        return x\n",
        "\n",
        "# Initialize the model\n",
        "input_size = X_train.shape[1]\n",
        "model = NeuralNetwork(input_size)"
      ],
      "metadata": {
        "id": "CBjyvT3qq-Xy"
      },
      "execution_count": 7,
      "outputs": []
    },
    {
      "cell_type": "code",
      "source": [
        "# Define the loss function and optimizer\n",
        "criterion = nn.BCELoss()  # Binary Cross Entropy Loss\n",
        "optimizer = optim.Adam(model.parameters(), lr=0.001)"
      ],
      "metadata": {
        "id": "GM0npee5rFIV"
      },
      "execution_count": 9,
      "outputs": []
    },
    {
      "cell_type": "code",
      "source": [
        "num_epochs = 5\n",
        "batch_size = 32\n",
        "num_batches = len(X_train_tensor) // batch_size\n",
        "\n",
        "for epoch in range(num_epochs):\n",
        "    model.train()\n",
        "    for i in range(num_batches):\n",
        "        # Get batch data\n",
        "        start = i * batch_size\n",
        "        end = start + batch_size\n",
        "        X_batch = X_train_tensor[start:end]\n",
        "        y_batch = y_train_tensor[start:end]\n",
        "\n",
        "        # Forward pass\n",
        "        outputs = model(X_batch)\n",
        "        loss = criterion(outputs, y_batch)\n",
        "\n",
        "        # Backward pass and optimization\n",
        "        optimizer.zero_grad()\n",
        "        loss.backward()\n",
        "        optimizer.step()\n",
        "\n",
        "    print(f'Epoch [{epoch+1}/{num_epochs}], Loss: {loss.item():.4f}')"
      ],
      "metadata": {
        "colab": {
          "base_uri": "https://localhost:8080/"
        },
        "id": "X8npTDh0rHY3",
        "outputId": "611e4a81-9a73-47da-855f-e4dbb61a5344"
      },
      "execution_count": 10,
      "outputs": [
        {
          "output_type": "stream",
          "name": "stdout",
          "text": [
            "Epoch [1/5], Loss: 0.0000\n",
            "Epoch [2/5], Loss: 0.0000\n",
            "Epoch [3/5], Loss: 0.0001\n",
            "Epoch [4/5], Loss: 0.0000\n",
            "Epoch [5/5], Loss: 0.0000\n"
          ]
        }
      ]
    },
    {
      "cell_type": "code",
      "source": [
        "model.eval()  # Set model to evaluation mode\n",
        "with torch.no_grad():\n",
        "    y_pred_probs = model(X_test_tensor).numpy()  # Get probabilities\n",
        "    y_pred = (y_pred_probs > 0.5).astype(int)     # Convert to binary predictions\n",
        "\n",
        "print(y_pred)"
      ],
      "metadata": {
        "colab": {
          "base_uri": "https://localhost:8080/"
        },
        "id": "qoRtMyk6ra8G",
        "outputId": "ee60dc57-81b1-40b6-a862-56ac01c9fc45"
      },
      "execution_count": 11,
      "outputs": [
        {
          "output_type": "stream",
          "name": "stdout",
          "text": [
            "[[1]\n",
            " [0]\n",
            " [0]\n",
            " ...\n",
            " [0]\n",
            " [0]\n",
            " [1]]\n"
          ]
        }
      ]
    },
    {
      "cell_type": "code",
      "source": [
        "outputs = model(X_train_tensor)\n",
        "print(outputs.shape)\n"
      ],
      "metadata": {
        "colab": {
          "base_uri": "https://localhost:8080/"
        },
        "id": "BUih3A7Qrb2L",
        "outputId": "71a15f98-4e16-4bf1-c424-96e0d7a8854d"
      },
      "execution_count": 12,
      "outputs": [
        {
          "output_type": "stream",
          "name": "stdout",
          "text": [
            "torch.Size([109786, 1])\n"
          ]
        }
      ]
    },
    {
      "cell_type": "code",
      "source": [
        "import torch\n",
        "from captum.attr import IntegratedGradients\n",
        "\n",
        "# Set model to evaluation mode\n",
        "model.eval()\n",
        "\n",
        "# Example input (X_train_tensor) - assuming X_train_tensor is your training data tensor\n",
        "# Extract a single input sample from X_train_tensor\n",
        "input_tensor = X_train_tensor[0].unsqueeze(0)  # Take the first sample and add batch dimension\n",
        "\n",
        "# Target label for explanation (e.g., 1 for malicious, 0 for benign)\n",
        "target_label = torch.tensor(1)  # Adjust based on your classification target\n",
        "\n",
        "# Initialize Integrated Gradients\n",
        "ig = IntegratedGradients(model)\n",
        "\n",
        "# Compute attributions for the input sample with respect to the target class\n",
        "attributions, delta = ig.attribute(input_tensor, return_convergence_delta=True)\n",
        "\n",
        "# Print attributions and delta for interpretation\n",
        "print('Attributions:', attributions)\n",
        "print('Delta (convergence check):', delta)"
      ],
      "metadata": {
        "colab": {
          "base_uri": "https://localhost:8080/"
        },
        "id": "oaE_o5TkrgF2",
        "outputId": "af4470cd-e1e2-47cc-dd26-f2e58918222b"
      },
      "execution_count": 13,
      "outputs": [
        {
          "output_type": "stream",
          "name": "stdout",
          "text": [
            "Attributions: tensor([[-1.4564e-01, -3.6309e-02, -0.0000e+00,  2.9774e-01, -6.0493e-03,\n",
            "         -9.4361e-04, -3.0061e-04, -2.3255e-02,  8.8314e-04, -0.0000e+00,\n",
            "         -0.0000e+00, -0.0000e+00, -6.1620e-02, -3.1435e-03, -0.0000e+00,\n",
            "         -0.0000e+00, -0.0000e+00, -0.0000e+00, -0.0000e+00, -1.4711e-02,\n",
            "         -6.5359e-04,  1.4953e-02,  6.2849e-01,  9.8762e-03, -5.7257e-03,\n",
            "          7.9159e-02, -9.9701e-02,  0.0000e+00, -0.0000e+00, -0.0000e+00,\n",
            "         -0.0000e+00,  0.0000e+00,  0.0000e+00, -0.0000e+00,  0.0000e+00,\n",
            "         -0.0000e+00,  0.0000e+00,  0.0000e+00, -0.0000e+00, -0.0000e+00,\n",
            "         -8.1437e-03, -2.6881e-03, -2.2627e-03,  7.1587e-03,  4.4231e-02,\n",
            "          0.0000e+00,  0.0000e+00,  7.6693e-03, -8.6310e-04,  1.2812e-01]],\n",
            "       dtype=torch.float64)\n",
            "Delta (convergence check): tensor([-0.0275], dtype=torch.float64)\n"
          ]
        }
      ]
    },
    {
      "cell_type": "code",
      "source": [
        "import matplotlib.pyplot as plt\n",
        "\n",
        "# Convert attributions to numpy for visualization\n",
        "attributions_np = attributions.squeeze().detach().numpy()\n",
        "\n",
        "# Plot the attributions for each feature\n",
        "plt.bar(range(len(attributions_np)), attributions_np)\n",
        "plt.xlabel('Feature Index')\n",
        "plt.ylabel('Attribution Value')\n",
        "plt.title('Integrated Gradients Attributions for Each Feature')\n",
        "plt.show()"
      ],
      "metadata": {
        "colab": {
          "base_uri": "https://localhost:8080/",
          "height": 472
        },
        "id": "6iZ5TC_wrlhs",
        "outputId": "6a887fd1-afd1-42e2-89b6-84e33735b22c"
      },
      "execution_count": 14,
      "outputs": [
        {
          "output_type": "display_data",
          "data": {
            "text/plain": [
              "<Figure size 640x480 with 1 Axes>"
            ],
            "image/png": "[encoded data removed]"
          },
          "metadata": {}
        }
      ]
    },
    {
      "cell_type": "code",
      "source": [
        "# Find the index of the feature with the largest attribution value\n",
        "dominant_feature_index = attributions_np.argmax()\n",
        "dominant_feature_value = attributions_np[dominant_feature_index]\n",
        "\n",
        "# Print the index and value of the most important feature\n",
        "print(f\"The dominant feature is at index {dominant_feature_index} with an attribution value of {dominant_feature_value}\")"
      ],
      "metadata": {
        "colab": {
          "base_uri": "https://localhost:8080/"
        },
        "id": "GTdZ0R86rpxq",
        "outputId": "e06a5d19-5c39-474b-f4e2-524241efafe6"
      },
      "execution_count": 15,
      "outputs": [
        {
          "output_type": "stream",
          "name": "stdout",
          "text": [
            "The dominant feature is at index 22 with an attribution value of 0.6284908049173752\n"
          ]
        }
      ]
    },
    {
      "cell_type": "code",
      "source": [
        "# Assuming X_train is a pandas DataFrame\n",
        "import pandas as pd\n",
        "\n",
        "# Replace this with your actual DataFrame\n",
        "# Example: X_train = pd.DataFrame(data, columns=[\"feature1\", \"feature2\", ..., \"feature50\"])\n",
        "\n",
        "# Get the name of the dominant feature\n",
        "dominant_feature_index = 22  # Index of the dominant feature\n",
        "dominant_feature_name = X_train.columns[dominant_feature_index]  # Get the column name\n",
        "\n",
        "# Print the dominant feature name and its attribution value\n",
        "print(f\"The dominant feature is '{dominant_feature_name}' at index {dominant_feature_index} with an attribution value of {attributions_np[dominant_feature_index]}\")"
      ],
      "metadata": {
        "colab": {
          "base_uri": "https://localhost:8080/"
        },
        "id": "rRBDg3O7ruh_",
        "outputId": "ebcf04ba-a5a8-4e1c-a404-8efdae848318"
      },
      "execution_count": 17,
      "outputs": [
        {
          "output_type": "stream",
          "name": "stdout",
          "text": [
            "The dominant feature is 'LineOfCode' at index 22 with an attribution value of 0.6284908049173752\n"
          ]
        }
      ]
    },
    {
      "cell_type": "code",
      "source": [
        "# Convert attributions to numpy for further analysis\n",
        "attributions_np = attributions.detach().numpy()\n",
        "\n",
        "# Average attributions across the batch (if needed)\n",
        "mean_attributions = attributions_np.mean(axis=0)\n",
        "\n",
        "# Identify the top 5 most important features\n",
        "important_features_indices = mean_attributions.argsort()[-5:][::-1]  # Get indices of top 5 features\n",
        "print(f\"Top 5 most important features: {important_features_indices}\")"
      ],
      "metadata": {
        "colab": {
          "base_uri": "https://localhost:8080/"
        },
        "id": "fufw_J_8ryuM",
        "outputId": "8b05aa05-f23c-446f-c10e-751df989fd71"
      },
      "execution_count": 18,
      "outputs": [
        {
          "output_type": "stream",
          "name": "stdout",
          "text": [
            "Top 5 most important features: [22  3 49 25 44]\n"
          ]
        }
      ]
    },
    {
      "cell_type": "code",
      "source": [
        "important_feature_names = [X_train.columns[i] for i in important_features_indices]\n",
        "\n",
        "\n",
        "print(f\"Top 5 most important features (names): {important_feature_names}\")"
      ],
      "metadata": {
        "colab": {
          "base_uri": "https://localhost:8080/"
        },
        "id": "0xUO2og6r8Bj",
        "outputId": "83348afa-c8c8-4877-ab58-895576425217"
      },
      "execution_count": 19,
      "outputs": [
        {
          "output_type": "stream",
          "name": "stdout",
          "text": [
            "Top 5 most important features (names): ['LineOfCode', 'URLSimilarityIndex', 'NoOfExternalRef', 'DomainTitleMatchScore', 'NoOfImage']\n"
          ]
        }
      ]
    },
    {
      "cell_type": "code",
      "source": [
        "# Create a copy of the test dataset\n",
        "X_test_ablation = X_test_tensor.clone()\n",
        "for idx in important_features_indices:\n",
        "    X_test_ablation[:, idx] = 0  # Set the important features to zero\n"
      ],
      "metadata": {
        "id": "KHqzbzPgr_pU"
      },
      "execution_count": 22,
      "outputs": []
    },
    {
      "cell_type": "code",
      "source": [
        "y_test_tensor = torch.FloatTensor(y_test.values).view(-1, 1)  # Reshape for output"
      ],
      "metadata": {
        "id": "EYlsDAV8sQJC"
      },
      "execution_count": 23,
      "outputs": []
    },
    {
      "cell_type": "code",
      "source": [
        "# Define a loss function and evaluation metric (e.g., accuracy)\n",
        "criterion = torch.nn.BCELoss()  # Binary cross-entropy loss\n",
        "correct = 0\n",
        "total = 0\n",
        "\n",
        "# Perform inference on the ablated data\n",
        "with torch.no_grad():\n",
        "    outputs = model(X_test_ablation)\n",
        "    predicted = (outputs > 0.5).float()  # Binary classification (threshold at 0.5)\n",
        "\n",
        "    # Calculate accuracy or other performance metrics\n",
        "    correct += (predicted == y_test_tensor).sum().item()\n",
        "    total += y_test_tensor.size(0)\n",
        "\n",
        "# Calculate accuracy\n",
        "accuracy_after_ablation = correct / total\n",
        "print(f\"Accuracy after ablating top features: {accuracy_after_ablation}\")"
      ],
      "metadata": {
        "colab": {
          "base_uri": "https://localhost:8080/"
        },
        "id": "lNvEe8b_sVYq",
        "outputId": "460e55a0-4022-49dd-a59e-37febd45b073"
      },
      "execution_count": 24,
      "outputs": [
        {
          "output_type": "stream",
          "name": "stdout",
          "text": [
            "Accuracy after ablating top features: 0.654467397772677\n"
          ]
        }
      ]
    },
    {
      "cell_type": "code",
      "source": [
        "from sklearn.metrics import accuracy_score, precision_score, recall_score, f1_score\n",
        "\n",
        "# Perform inference on the ablated data\n",
        "with torch.no_grad():\n",
        "    outputs = model(X_test_ablation)\n",
        "    predicted = (outputs > 0.5).float()  # Binary classification (threshold at 0.5)\n",
        "\n",
        "    # Convert predicted and true labels to numpy for metric calculations\n",
        "    predicted_np = predicted.numpy()\n",
        "    y_test_np = y_test_tensor.numpy()\n",
        "\n",
        "    # Calculate accuracy and other metrics\n",
        "    accuracy_after_ablation = accuracy_score(y_test_np, predicted_np)\n",
        "    precision_after_ablation = precision_score(y_test_np, predicted_np)\n",
        "    recall_after_ablation = recall_score(y_test_np, predicted_np)\n",
        "    f1_after_ablation = f1_score(y_test_np, predicted_np)\n",
        "\n",
        "print(f\"Accuracy after ablating top features: {accuracy_after_ablation:.4f}\")\n",
        "print(f\"Precision after ablating top features: {precision_after_ablation:.4f}\")\n",
        "print(f\"Recall after ablating top features: {recall_after_ablation:.4f}\")\n",
        "print(f\"F1 Score after ablating top features: {f1_after_ablation:.4f}\")"
      ],
      "metadata": {
        "colab": {
          "base_uri": "https://localhost:8080/"
        },
        "id": "PcUzg6AzsYJm",
        "outputId": "efc0aaa8-32ef-449c-b3ef-13751b80a8d8"
      },
      "execution_count": 25,
      "outputs": [
        {
          "output_type": "stream",
          "name": "stdout",
          "text": [
            "Accuracy after ablating top features: 0.6545\n",
            "Precision after ablating top features: 1.0000\n",
            "Recall after ablating top features: 0.4017\n",
            "F1 Score after ablating top features: 0.5732\n"
          ]
        }
      ]
    },
    {
      "cell_type": "code",
      "source": [
        "# Evaluate the model on the original dataset (before ablation)\n",
        "with torch.no_grad():\n",
        "    outputs_original = model(X_test_tensor)\n",
        "    predicted_original = (outputs_original > 0.5).float()\n",
        "\n",
        "    correct_original = (predicted_original == y_test_tensor).sum().item()\n",
        "    accuracy_original = correct_original / total\n",
        "    print(f\"Original accuracy: {accuracy_original}\")\n",
        "\n",
        "# Compare the accuracies\n",
        "performance_drop = accuracy_original - accuracy_after_ablation\n",
        "print(f\"Performance drop after feature ablation: {performance_drop}\")"
      ],
      "metadata": {
        "colab": {
          "base_uri": "https://localhost:8080/"
        },
        "id": "ITkYxOXosdeI",
        "outputId": "a246709a-1e75-452f-e89e-56bc1b4d8606"
      },
      "execution_count": 26,
      "outputs": [
        {
          "output_type": "stream",
          "name": "stdout",
          "text": [
            "Original accuracy: 0.9991711298138231\n",
            "Performance drop after feature ablation: 0.344703732041146\n"
          ]
        }
      ]
    },
    {
      "cell_type": "code",
      "source": [
        "# Add small Gaussian noise to perturb the input\n",
        "noise = torch.normal(mean=0, std=0.01, size=input_tensor.shape)  # Small noise with std = 0.01\n",
        "input_tensor_perturbed = input_tensor + noise\n",
        "\n",
        "# Make sure the perturbed input is still valid (e.g., within the expected range)\n",
        "input_tensor_perturbed = torch.clamp(input_tensor_perturbed, 0, 1)  # If the input range is [0, 1]"
      ],
      "metadata": {
        "id": "arqXe9n7shpB"
      },
      "execution_count": 27,
      "outputs": []
    },
    {
      "cell_type": "code",
      "source": [
        "\n",
        "# Ensure the model is in eval mode\n",
        "model.eval()\n",
        "\n",
        "# Perturb the input by adding small Gaussian noise\n",
        "noise = torch.normal(mean=0, std=0.01, size=input_tensor.shape)  # Small noise with std = 0.01\n",
        "input_tensor_perturbed = input_tensor + noise\n",
        "\n",
        "# Make sure the perturbed input is within the valid range, if needed (e.g., [0, 1])\n",
        "input_tensor_perturbed = torch.clamp(input_tensor_perturbed, 0, 1)\n",
        "\n",
        "# Compute attributions for the perturbed input\n",
        "# Since it's binary classification with a single output, we don't need a target argument\n",
        "attributions_perturbed, _ = ig.attribute(input_tensor_perturbed, return_convergence_delta=True)\n",
        "\n",
        "# Convert attributions to numpy for comparison\n",
        "attributions_perturbed_np = attributions_perturbed.detach().numpy()\n",
        "\n",
        "# Print or visualize the perturbed attributions\n",
        "print(\"Perturbed Attributions: \", attributions_perturbed_np)"
      ],
      "metadata": {
        "colab": {
          "base_uri": "https://localhost:8080/"
        },
        "id": "h2xjArYPsnNF",
        "outputId": "c5481f04-5912-473a-a47b-3b6782678369"
      },
      "execution_count": 28,
      "outputs": [
        {
          "output_type": "stream",
          "name": "stdout",
          "text": [
            "Perturbed Attributions:  [[-3.09629938e-02 -1.48874681e-02 -3.19710828e-05  2.11075023e-03\n",
            "  -3.50504068e-02 -8.77012159e-03 -1.74692962e-03 -4.19208683e-02\n",
            "  -7.10813561e-03 -2.61756997e-05 -0.00000000e+00 -6.37247772e-05\n",
            "  -2.31510247e-02 -1.74461975e-02 -6.67704578e-05 -0.00000000e+00\n",
            "  -0.00000000e+00 -0.00000000e+00 -2.09850433e-05 -7.43993528e-02\n",
            "  -3.14097926e-03  5.43474939e-02  5.95153295e-03  6.33743126e-04\n",
            "  -2.68877071e-02  9.35139826e-03  1.24497837e-03  1.33912354e-05\n",
            "   0.00000000e+00 -1.63773990e-05 -1.50724956e-03 -0.00000000e+00\n",
            "   8.22696081e-04 -1.24183905e-05  0.00000000e+00  1.24208292e-05\n",
            "   1.02046883e-03  0.00000000e+00  4.39580070e-06 -0.00000000e+00\n",
            "  -3.49883699e-02 -4.42602514e-03 -9.87767999e-03  3.13079856e-02\n",
            "   2.50151279e-02  0.00000000e+00  1.38900583e-04  3.53979063e-02\n",
            "   4.66789607e-03  2.29423920e-02]]\n"
          ]
        }
      ]
    },
    {
      "cell_type": "code",
      "source": [
        "import numpy as np\n",
        "\n",
        "# Compute the L2 distance (Euclidean distance) between the original and perturbed attributions\n",
        "l2_distance = np.linalg.norm(attributions_np - attributions_perturbed_np)\n",
        "\n",
        "# Print the L2 distance to measure how much the attributions change\n",
        "print(f\"L2 distance between original and perturbed attributions: {l2_distance}\")"
      ],
      "metadata": {
        "colab": {
          "base_uri": "https://localhost:8080/"
        },
        "id": "MnrQm4c_srBB",
        "outputId": "5696adee-f67a-4396-f77e-a5a67075b9f2"
      },
      "execution_count": 29,
      "outputs": [
        {
          "output_type": "stream",
          "name": "stdout",
          "text": [
            "L2 distance between original and perturbed attributions: 0.7251753117164966\n"
          ]
        }
      ]
    },
    {
      "cell_type": "code",
      "source": [
        "import matplotlib.pyplot as plt\n",
        "\n",
        "# Create a new figure\n",
        "plt.figure(figsize=(12, 6))\n",
        "\n",
        "# Subplot 1: Original attributions\n",
        "plt.subplot(1, 2, 1)  # 1 row, 2 columns, 1st subplot\n",
        "plt.bar(range(len(attributions_np[0])), attributions_np[0], alpha=0.7, color='blue')\n",
        "plt.xlabel('Feature Index')\n",
        "plt.ylabel('Attribution Value')\n",
        "plt.title('Original Attributions')\n",
        "\n",
        "# Subplot 2: Perturbed attributions\n",
        "plt.subplot(1, 2, 2)  # 1 row, 2 columns, 2nd subplot\n",
        "plt.bar(range(len(attributions_perturbed_np[0])), attributions_perturbed_np[0], alpha=0.7, color='orange')\n",
        "plt.xlabel('Feature Index')\n",
        "plt.ylabel('Attribution Value')\n",
        "plt.title('Perturbed Attributions')\n",
        "\n",
        "# Show the plots\n",
        "plt.tight_layout()  # Adjust layout to prevent overlap\n",
        "plt.show()\n"
      ],
      "metadata": {
        "colab": {
          "base_uri": "https://localhost:8080/",
          "height": 442
        },
        "id": "8w6uBsqqszY5",
        "outputId": "cde79beb-e8b7-4042-dd47-ca49f2e389c2"
      },
      "execution_count": 31,
      "outputs": [
        {
          "output_type": "display_data",
          "data": {
            "text/plain": [
              "<Figure size 1200x600 with 2 Axes>"
            ],
            "image/png": "[encoded data removed]"
          },
          "metadata": {}
        }
      ]
    },
    {
      "cell_type": "code",
      "source": [
        "# Define a loss function and evaluation metric (accuracy)\n",
        "criterion = torch.nn.BCELoss()  # Binary cross-entropy loss\n",
        "correct = 0\n",
        "total = 0\n",
        "\n",
        "with torch.no_grad():\n",
        "    outputs = model(input_tensor_perturbed)\n",
        "    predicted = (outputs > 0.5).float()  # Binary classification (threshold at 0.5)\n",
        "\n",
        "    correct += (predicted == y_test_tensor).sum().item()\n",
        "    total += y_test_tensor.size(0)\n",
        "accuracy_after_ablation = correct / total\n",
        "print(f\"Accuracy after perturbating top features: {accuracy_after_ablation}\")"
      ],
      "metadata": {
        "colab": {
          "base_uri": "https://localhost:8080/"
        },
        "id": "2LNXMYN7tIip",
        "outputId": "a30eb644-948d-45d2-f218-0634e7694b07"
      },
      "execution_count": 34,
      "outputs": [
        {
          "output_type": "stream",
          "name": "stdout",
          "text": [
            "Accuracy after perturbating top features: 0.4224475048882088\n"
          ]
        }
      ]
    },
    {
      "cell_type": "code",
      "source": [],
      "metadata": {
        "id": "HpiPOdo5vTvV"
      },
      "execution_count": null,
      "outputs": []
    }
  ]
}